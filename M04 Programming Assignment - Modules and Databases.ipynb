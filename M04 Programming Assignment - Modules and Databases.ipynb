{
 "cells": [
  {
   "cell_type": "code",
   "execution_count": 3,
   "id": "9b7053a7-b49c-4a1c-aede-0b127b52caff",
   "metadata": {},
   "outputs": [],
   "source": [
    "# Create the zoo.py file with the hours function\n",
    "with open(\"zoo.py\", \"w\") as file:\n",
    "    file.write(\"\"\"\n",
    "def hours():\n",
    "    print('Open 9-5 daily')\n",
    "\"\"\")\n"
   ]
  },
  {
   "cell_type": "code",
   "execution_count": 4,
   "id": "6e14d3c9-5279-4179-95e1-4e16818971d5",
   "metadata": {},
   "outputs": [
    {
     "name": "stdout",
     "output_type": "stream",
     "text": [
      "Open 9-5 daily\n"
     ]
    }
   ],
   "source": [
    "# Import the zoo module\n",
    "import zoo\n",
    "\n",
    "# Call the hours function\n",
    "zoo.hours()\n"
   ]
  },
  {
   "cell_type": "code",
   "execution_count": 5,
   "id": "af412bb3-7497-41c7-8869-55412e709f57",
   "metadata": {},
   "outputs": [
    {
     "name": "stdout",
     "output_type": "stream",
     "text": [
      "Open 9-5 daily\n"
     ]
    }
   ],
   "source": [
    "# Import the zoo module as menagerie\n",
    "import zoo as menagerie\n",
    "\n",
    "# Call the hours function from menagerie\n",
    "menagerie.hours()\n"
   ]
  },
  {
   "cell_type": "code",
   "execution_count": null,
   "id": "f960470f-c8e5-4f2d-9dcf-54aaad7fbe37",
   "metadata": {},
   "outputs": [],
   "source": []
  }
 ],
 "metadata": {
  "kernelspec": {
   "display_name": "Python 3 (ipykernel)",
   "language": "python",
   "name": "python3"
  },
  "language_info": {
   "codemirror_mode": {
    "name": "ipython",
    "version": 3
   },
   "file_extension": ".py",
   "mimetype": "text/x-python",
   "name": "python",
   "nbconvert_exporter": "python",
   "pygments_lexer": "ipython3",
   "version": "3.11.7"
  }
 },
 "nbformat": 4,
 "nbformat_minor": 5
}
