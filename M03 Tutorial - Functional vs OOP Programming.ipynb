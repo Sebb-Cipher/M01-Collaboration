{
 "cells": [
  {
   "cell_type": "code",
   "execution_count": null,
   "id": "db202fad-1914-4d3a-b867-b13afb1c811c",
   "metadata": {},
   "outputs": [],
   "source": [
    "#User function Template for python3\n",
    "\n",
    "class Solution:\n",
    "    def sort012(self,arr,n):\n",
    "        arr.sort()\n",
    "    \n",
    "\n"
   ]
  },
  {
   "cell_type": "code",
   "execution_count": null,
   "id": "8b0f42df-81a5-4b09-920c-56057eefd6f7",
   "metadata": {},
   "outputs": [],
   "source": [
    "#User function template for Python\n",
    "\n",
    "class Solution:\t\n",
    "\tdef binarysearch(self, arr, n, k):\n",
    "\t\tarr.sort()\n",
    "        leftIndex = 0\n",
    "        rightIndex = len(arr) - 1\n",
    "        middleIndex = (leftIndex + rightIndex) // 2\n",
    "        while True: \n",
    "            if k != arr[middleIndex] and middleIndex == rightIndex:\n",
    "                return -1\n",
    "            elif k == arr[middleIndex]: \n",
    "                print(middleIndex) \n",
    "                return middleIndex\n",
    "            elif k < arr[middleIndex]: \n",
    "                rightIndex = middleIndex - 1\n",
    "                middleIndex = (leftIndex + rightIndex) // 2\n",
    "            else: \n",
    "                leftIndex = middleIndex + 1\n",
    "                middleIndex = (leftIndex + rightIndex) // 2\n",
    "    "
   ]
  }
 ],
 "metadata": {
  "kernelspec": {
   "display_name": "Python 3 (ipykernel)",
   "language": "python",
   "name": "python3"
  },
  "language_info": {
   "codemirror_mode": {
    "name": "ipython",
    "version": 3
   },
   "file_extension": ".py",
   "mimetype": "text/x-python",
   "name": "python",
   "nbconvert_exporter": "python",
   "pygments_lexer": "ipython3",
   "version": "3.11.7"
  }
 },
 "nbformat": 4,
 "nbformat_minor": 5
}
