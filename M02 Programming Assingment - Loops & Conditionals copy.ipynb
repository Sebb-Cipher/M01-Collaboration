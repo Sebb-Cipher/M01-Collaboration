{
 "cells": [
  {
   "cell_type": "code",
   "execution_count": 5,
   "id": "f3163984-aab2-4629-bcb5-43f5c4e07d1e",
   "metadata": {},
   "outputs": [
    {
     "name": "stdout",
     "output_type": "stream",
     "text": [
      "Too Low\n"
     ]
    }
   ],
   "source": [
    "secret = 7\n",
    "guess = 1\n",
    "if guess < secret: \n",
    "    print(\"Too Low\") \n",
    "elif guess > secret: \n",
    "    print(\"Too High\")\n",
    "else: \n",
    "    print(\"Just Right\")"
   ]
  },
  {
   "cell_type": "code",
   "execution_count": 8,
   "id": "8f8b71c1-cbaa-41fa-81ae-8d15acfe93fd",
   "metadata": {},
   "outputs": [
    {
     "name": "stdout",
     "output_type": "stream",
     "text": [
      "It is a cherry\n"
     ]
    }
   ],
   "source": [
    "small = True\n",
    "green = False\n",
    "\n",
    "if small == True and green == True:\n",
    "    print(\"It is a pea\")\n",
    "elif small == False and green == True:\n",
    "    print(\"It is a watermelon\")\n",
    "elif small == False and green == True: \n",
    "    print(\"It is a pumpkin\")\n",
    "else: \n",
    "    print(\"It is a cherry\")"
   ]
  },
  {
   "cell_type": "code",
   "execution_count": 9,
   "id": "81e5d1f7-1a6c-4898-ad34-307a6bf1fe97",
   "metadata": {},
   "outputs": [
    {
     "name": "stdout",
     "output_type": "stream",
     "text": [
      "3\n",
      "2\n",
      "1\n",
      "0\n"
     ]
    }
   ],
   "source": [
    "values = [3, 2, 1, 0]\n",
    "for i in values: \n",
    "    print(i)"
   ]
  },
  {
   "cell_type": "code",
   "execution_count": null,
   "id": "12668ea1-080f-44b4-886c-e5aa6b068531",
   "metadata": {},
   "outputs": [],
   "source": [
    "guess_me = 7\n",
    "number = 1\n",
    "while number < guess_me: \n",
    "    print(\"Too Low\")\n",
    "    number = number + 1\n",
    "\n",
    "if number == guess_me: \n",
    "    print(\"Found It\")\n",
    "    break\n",
    "else: \n",
    "    if number > guess_me:\n",
    "        print(\"Oops\")\n"
   ]
  },
  {
   "cell_type": "code",
   "execution_count": null,
   "id": "52505987-6b62-435a-80c2-0dd9c0aa2dc4",
   "metadata": {},
   "outputs": [],
   "source": [
    "guess_me = 5\n",
    "numbers = range(10)\n",
    "for number in numbers: \n",
    "    if number < guess_me:\n",
    "        print(\"Too Low\") \n",
    "    elif number == guess_me: \n",
    "        print(\"Found it\") \n",
    "        break\n",
    "    else: \n",
    "        if number > guess_me: \n",
    "            print(\"Oops\")\n",
    "            break"
   ]
  },
  {
   "cell_type": "code",
   "execution_count": null,
   "id": "a1f6dd5c-9f49-4396-885c-1e610e56ad1c",
   "metadata": {},
   "outputs": [],
   "source": []
  }
 ],
 "metadata": {
  "kernelspec": {
   "display_name": "Python 3 (ipykernel)",
   "language": "python",
   "name": "python3"
  },
  "language_info": {
   "codemirror_mode": {
    "name": "ipython",
    "version": 3
   },
   "file_extension": ".py",
   "mimetype": "text/x-python",
   "name": "python",
   "nbconvert_exporter": "python",
   "pygments_lexer": "ipython3",
   "version": "3.11.7"
  }
 },
 "nbformat": 4,
 "nbformat_minor": 5
}
